{
  "nbformat": 4,
  "nbformat_minor": 0,
  "metadata": {
    "colab": {
      "name": "FirstDayTest.ipynb",
      "provenance": [],
      "authorship_tag": "ABX9TyOEKT0DGDxHgp4nCF7SH2R+",
      "include_colab_link": true
    },
    "kernelspec": {
      "name": "python3",
      "display_name": "Python 3"
    }
  },
  "cells": [
    {
      "cell_type": "markdown",
      "metadata": {
        "id": "view-in-github",
        "colab_type": "text"
      },
      "source": [
        "<a href=\"https://colab.research.google.com/github/Gwen2020/techacademy2020-1/blob/master/FirstDayTest.ipynb\" target=\"_parent\"><img src=\"https://colab.research.google.com/assets/colab-badge.svg\" alt=\"Open In Colab\"/></a>"
      ]
    },
    {
      "cell_type": "code",
      "metadata": {
        "id": "mUkllBsyQ96C",
        "colab_type": "code",
        "outputId": "aeb2b201-02cd-44b8-b49d-bbf84be97384",
        "colab": {
          "base_uri": "https://localhost:8080/",
          "height": 34
        }
      },
      "source": [
        "print(\"Techademy\")"
      ],
      "execution_count": 0,
      "outputs": [
        {
          "output_type": "stream",
          "text": [
            "Techademy\n"
          ],
          "name": "stdout"
        }
      ]
    },
    {
      "cell_type": "code",
      "metadata": {
        "id": "WNv1Isqaeqkw",
        "colab_type": "code",
        "colab": {}
      },
      "source": [
        "myint =7\n",
        "print(\"my variable is 7\")\n"
      ],
      "execution_count": 0,
      "outputs": []
    }
  ]
}